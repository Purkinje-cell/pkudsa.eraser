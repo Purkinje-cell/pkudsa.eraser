{
 "cells": [
  {
   "cell_type": "code",
   "execution_count": 11,
   "metadata": {},
   "outputs": [],
   "source": [
    "import time\n",
    "import numpy as np\n",
    "\n",
    "def check(arr):\n",
    "        repeats = set()\n",
    "        visited = {(i, j): 0 for i in range(BOARD_SIZE) for j in range(BOARD_SIZE)}\n",
    "        for i in range(0, BOARD_SIZE - 2):\n",
    "            for j in range(BOARD_SIZE):\n",
    "                if visited[(i, j)] == 1 or visited[(j, i)] == 1:\n",
    "                    continue\n",
    "                if arr[i, j] != 'nan' and (arr[i+1:i+3, j] == arr[i, j]).all():\n",
    "                    repeats.add((i+1, j))\n",
    "                    visited[(i, j)] = 1\n",
    "                    visited[(i+1, j)] = 1\n",
    "                    visited[(i+2, j)] = 1\n",
    "                if arr[j, i] != 'nan' and (arr[j, i+1:i+3] == arr[j, i]).all():\n",
    "                    repeats.add((j, i+1))\n",
    "                    visited[(j, i)] = 1\n",
    "                    visited[(j, i+1)] = 1\n",
    "                    visited[(j, i+2)] = 1\n",
    "        return repeats\n",
    "\n",
    "def check2(arr):\n",
    "        repeats = set()\n",
    "        for i in range(BOARD_SIZE):\n",
    "            row = arr[i]\n",
    "            row_view = np.lib.stride_tricks.as_strided(row, (BOARD_SIZE - 2, 3), (4, 4))\n",
    "            connected = np.all(row_view == row_view[:, 0, None], axis=1)\n",
    "            equals = np.where(connected)[0]\n",
    "            repeats.update([(i, j + 1) for j in equals])\n",
    "            \n",
    "            col = arr[:, i]\n",
    "            col_view = np.lib.stride_tricks.as_strided(col, (BOARD_SIZE - 2, 3), (24, 24))\n",
    "            connected = np.all(col_view == col_view[:, 0, None], axis=1)\n",
    "            equals = np.where(connected)[0]\n",
    "            repeats.update([(j + 1, i) for j in equals])\n",
    "        return repeats\n"
   ]
  },
  {
   "cell_type": "code",
   "execution_count": 13,
   "metadata": {},
   "outputs": [],
   "source": [
    "def check2(arr):\n",
    "        repeats = set()\n",
    "        for i in range(0, BOARD_SIZE - 2):\n",
    "            for j in range(BOARD_SIZE):\n",
    "                if arr[i, j] != 'nan' and (arr[i+1:i+3, j] == arr[i, j]).all():\n",
    "                    repeats.add((i+1, j))\n",
    "                if arr[j, i] != 'nan' and (arr[j, i+1:i+3] == arr[j, i]).all():\n",
    "                    repeats.add((j, i+1))\n",
    "        return repeats\n"
   ]
  },
  {
   "cell_type": "code",
   "execution_count": 17,
   "metadata": {},
   "outputs": [
    {
     "name": "stdout",
     "output_type": "stream",
     "text": [
      "[[3 3 3 3 3 1]\n",
      " [3 2 4 0 0 4]\n",
      " [3 1 1 1 1 0]\n",
      " [1 4 3 0 3 0]\n",
      " [2 3 0 1 3 3]\n",
      " [3 0 1 1 1 0]]\n"
     ]
    }
   ],
   "source": [
    "BOARD_SIZE = 6\n",
    "MAX_TURN = 100\n",
    "N_ROWS = 1200\n",
    "np.random.seed(0)\n",
    "BOARD = np.random.randint(0, 5, (BOARD_SIZE, BOARD_SIZE))\n",
    "BOARD[0, 1] = 3\n",
    "BOARD[0, 0] = 3\n",
    "BOARD[2, 0] = 3\n",
    "BOARD[2, 2] = 1\n",
    "print(BOARD)"
   ]
  },
  {
   "cell_type": "code",
   "execution_count": 19,
   "metadata": {},
   "outputs": [
    {
     "name": "stdout",
     "output_type": "stream",
     "text": [
      "[['G' 'G' 'B']\n",
      " ['G' 'B' 'B']\n",
      " ['B' 'B' 'B']\n",
      " ['B' 'B' 'G']]\n"
     ]
    }
   ],
   "source": [
    "row = test[:, 0]\n",
    "row_view = np.lib.stride_tricks.as_strided(row, (4, 3), (test.itemsize*6, test.itemsize*6))\n",
    "print(row_view)"
   ]
  },
  {
   "cell_type": "code",
   "execution_count": 18,
   "metadata": {},
   "outputs": [
    {
     "name": "stdout",
     "output_type": "stream",
     "text": [
      "180 µs ± 2.84 µs per loop (mean ± std. dev. of 7 runs, 10,000 loops each)\n",
      "{(1, 0), (5, 3), (2, 2), (0, 1)}\n"
     ]
    }
   ],
   "source": [
    "%timeit check(BOARD)\n",
    "print(check(BOARD))"
   ]
  },
  {
   "cell_type": "code",
   "execution_count": 19,
   "metadata": {},
   "outputs": [
    {
     "name": "stdout",
     "output_type": "stream",
     "text": [
      "304 µs ± 29.5 µs per loop (mean ± std. dev. of 7 runs, 1,000 loops each)\n",
      "{(0, 1), (5, 3), (0, 3), (2, 3), (0, 2), (2, 2), (1, 0)}\n"
     ]
    }
   ],
   "source": [
    "%timeit check2(BOARD)\n",
    "print(check2(BOARD))"
   ]
  },
  {
   "cell_type": "code",
   "execution_count": 9,
   "metadata": {},
   "outputs": [],
   "source": [
    "def eliminate(board, func=lambda x: (x - 2) ** 2):\n",
    "        arr = board\n",
    "        to_eliminate = np.zeros((6, 6), dtype=int)\n",
    "        directions = np.array([[1, 0], [-1, 0], [0, 1], [0, -1]])\n",
    "        to_visit = check(arr)\n",
    "        score = 0\n",
    "\n",
    "        for coord in to_visit:\n",
    "            if to_eliminate[coord[0], coord[1]] == 1:\n",
    "                continue\n",
    "            head = 0\n",
    "            connected = [coord, ]\n",
    "            while head < len(connected):\n",
    "                current = connected[head]\n",
    "                to_eliminate[current[0], current[1]] = 1\n",
    "                for d in directions:\n",
    "                    neighbor = current + d\n",
    "                    if (neighbor < 0).any() or (neighbor >= 6).any():\n",
    "                        continue\n",
    "                    if (arr[neighbor[0], neighbor[1]] == arr[current[0], current[1]]\n",
    "                            and to_eliminate[neighbor[0], neighbor[1]] == 0):\n",
    "                        connected.append(neighbor)\n",
    "                head += 1\n",
    "            score += func(len(connected))\n",
    "\n",
    "        col_eliminated = np.sum(to_eliminate, axis=1)\n",
    "        # Return the total score and the number of columns eliminated\n",
    "        return score, col_eliminated\n"
   ]
  },
  {
   "cell_type": "code",
   "execution_count": 13,
   "metadata": {},
   "outputs": [
    {
     "name": "stdout",
     "output_type": "stream",
     "text": [
      "867 µs ± 49.4 µs per loop (mean ± std. dev. of 7 runs, 1,000 loops each)\n"
     ]
    }
   ],
   "source": [
    "%timeit eliminate(BOARD)"
   ]
  },
  {
   "cell_type": "code",
   "execution_count": 108,
   "metadata": {},
   "outputs": [],
   "source": [
    "\n",
    "def eliminate2(board, func=lambda x: (x - 2) ** 2):\n",
    "        arr = board\n",
    "        to_eliminate = np.zeros((6, 6), dtype=int)\n",
    "        directions = np.array([[1, 0], [-1, 0], [0, 1], [0, -1]])\n",
    "        to_visit = check2(arr)\n",
    "        score = 0\n",
    "\n",
    "        for coord in to_visit:\n",
    "            if to_eliminate[coord[0], coord[1]] == 1:\n",
    "                continue\n",
    "            head = 0\n",
    "            connected = [coord, ]\n",
    "            while head < len(connected):\n",
    "                current = connected[head]\n",
    "                to_eliminate[current[0], current[1]] = 1\n",
    "                for d in directions:\n",
    "                    neighbor = current + d\n",
    "                    if (neighbor < 0).any() or (neighbor >= 6).any():\n",
    "                        continue\n",
    "                    if (arr[neighbor[0], neighbor[1]] == arr[current[0], current[1]]\n",
    "                            and to_eliminate[neighbor[0], neighbor[1]] == 0):\n",
    "                        connected.append(neighbor)\n",
    "                head += 1\n",
    "            score += func(len(connected))\n",
    "\n",
    "        col_eliminated = np.sum(to_eliminate, axis=1)\n",
    "        # Return the total score and the number of columns eliminated\n",
    "        return score, col_eliminated\n"
   ]
  },
  {
   "cell_type": "code",
   "execution_count": 109,
   "metadata": {},
   "outputs": [
    {
     "name": "stdout",
     "output_type": "stream",
     "text": [
      "1.24 ms ± 187 µs per loop (mean ± std. dev. of 7 runs, 1,000 loops each)\n"
     ]
    }
   ],
   "source": [
    "%timeit eliminate2(BOARD)"
   ]
  }
 ],
 "metadata": {
  "kernelspec": {
   "display_name": "Python 3",
   "language": "python",
   "name": "python3"
  },
  "language_info": {
   "codemirror_mode": {
    "name": "ipython",
    "version": 3
   },
   "file_extension": ".py",
   "mimetype": "text/x-python",
   "name": "python",
   "nbconvert_exporter": "python",
   "pygments_lexer": "ipython3",
   "version": "3.9.13"
  },
  "orig_nbformat": 4
 },
 "nbformat": 4,
 "nbformat_minor": 2
}
